{
 "cells": [
  {
   "metadata": {},
   "cell_type": "markdown",
   "source": [
    "# This is a sample Jupyter Notebook\n",
    "\n",
    "Below is an example of a code cell. \n",
    "Put your cursor into the cell and press Shift+Enter to execute it and select the next one, or click 'Run Cell' button.\n",
    "\n",
    "Press Double Shift to search everywhere for classes, files, tool windows, actions, and settings.\n",
    "\n",
    "To learn more about Jupyter Notebooks in PyCharm, see [help](https://www.jetbrains.com/help/pycharm/ipython-notebook-support.html).\n",
    "For an overview of PyCharm, go to Help -> Learn IDE features or refer to [our documentation](https://www.jetbrains.com/help/pycharm/getting-started.html)."
   ],
   "id": "8a77807f92f26ee"
  },
  {
   "metadata": {},
   "cell_type": "markdown",
   "source": "",
   "id": "2d3cf8d59738a0c"
  },
  {
   "metadata": {
    "ExecuteTime": {
     "end_time": "2024-10-26T17:46:23.657137Z",
     "start_time": "2024-10-26T17:46:21.708865Z"
    }
   },
   "cell_type": "code",
   "source": [
    "import random\n",
    "rock = \"\"\"\n",
    "    _______\n",
    "---'   ____)\n",
    "      (_____)\n",
    "      (_____)\n",
    "      (____)\n",
    "---.__(___)\n",
    "\"\"\"\n",
    "\n",
    "paper = \"\"\"\n",
    "     _______\n",
    "---'    ____)____\n",
    "           ______)\n",
    "          _______)\n",
    "         _______)\n",
    "---.__________)\n",
    "\"\"\"\n",
    "\n",
    "scissors = \"\"\"\n",
    "    _______\n",
    "---'   ____)____\n",
    "          ______)\n",
    "       __________)\n",
    "      (____)\n",
    "---.__(___)\n",
    "\"\"\"\n",
    "game_images=[rock,paper,scissors]\n",
    "user_choice=int(input(\"what will you choose:0==rock,1==paper,2==scissors\"))\n",
    "print(game_images[user_choice])\n",
    "    \n",
    "computer_choice=random.randint(0,2)\n",
    "print(game_images[computer_choice])\n",
    "if(user_choice==0 ):\n",
    "    print(\"computer choice:rock\")\n",
    "if(user_choice==1):\n",
    "    print(\"computer choice:Paper\")\n",
    "if(user_choice==2):\n",
    "    print(\"computer choice:scissors\")\n",
    "if(user_choice == \"rock\" and computer_choice == 2) or (user_choice == \"paper\" and computer_choice == 0) or(user_choice == \"scissors\" and computer_choice == 1):\n",
    "    print(\"user wins\")\n",
    "elif(user_choice==computer_choice):\n",
    "    print(\"equals..\")\n",
    "else:\n",
    "    print(\"computer wins\")\n"
   ],
   "id": "8c29a1554035cc8b",
   "outputs": [
    {
     "name": "stdout",
     "output_type": "stream",
     "text": [
      "\n",
      "    _______\n",
      "---'   ____)____\n",
      "          ______)\n",
      "       __________)\n",
      "      (____)\n",
      "---.__(___)\n",
      "\n",
      "\n",
      "    _______\n",
      "---'   ____)\n",
      "      (_____)\n",
      "      (_____)\n",
      "      (____)\n",
      "---.__(___)\n",
      "\n",
      "computer choice:scissors\n",
      "computer wins\n"
     ]
    }
   ],
   "execution_count": 3
  },
  {
   "metadata": {},
   "cell_type": "code",
   "outputs": [],
   "execution_count": null,
   "source": "",
   "id": "2adfe0c11cde28d3"
  }
 ],
 "metadata": {
  "kernelspec": {
   "display_name": "Python 3",
   "language": "python",
   "name": "python3"
  },
  "language_info": {
   "codemirror_mode": {
    "name": "ipython",
    "version": 2
   },
   "file_extension": ".py",
   "mimetype": "text/x-python",
   "name": "python",
   "nbconvert_exporter": "python",
   "pygments_lexer": "ipython2",
   "version": "2.7.6"
  }
 },
 "nbformat": 4,
 "nbformat_minor": 5
}
